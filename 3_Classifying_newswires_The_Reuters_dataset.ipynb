{
  "nbformat": 4,
  "nbformat_minor": 0,
  "metadata": {
    "colab": {
      "name": "3_Classifying_newswires_The_Reuters_dataset.ipynb",
      "provenance": [],
      "collapsed_sections": [],
      "authorship_tag": "ABX9TyOabPHjTW8gkBaZPhgYMJ+Z",
      "include_colab_link": true
    },
    "kernelspec": {
      "name": "python3",
      "display_name": "Python 3"
    }
  },
  "cells": [
    {
      "cell_type": "markdown",
      "metadata": {
        "id": "view-in-github",
        "colab_type": "text"
      },
      "source": [
        "<a href=\"https://colab.research.google.com/github/ajay-nrg/DeepLearning/blob/master/3_Classifying_newswires_The_Reuters_dataset.ipynb\" target=\"_parent\"><img src=\"https://colab.research.google.com/assets/colab-badge.svg\" alt=\"Open In Colab\"/></a>"
      ]
    },
    {
      "cell_type": "code",
      "metadata": {
        "id": "xuRg76gZmYgK",
        "colab_type": "code",
        "colab": {
          "base_uri": "https://localhost:8080/",
          "height": 70
        },
        "outputId": "a6b45b62-3c4e-44fd-f167-ba2c96bdc2ac"
      },
      "source": [
        "from keras.datasets import reuters \n",
        "(train_data, train_labels),(test_data,test_labels) = reuters.load_data(num_words=10000)"
      ],
      "execution_count": null,
      "outputs": [
        {
          "output_type": "stream",
          "text": [
            "Using TensorFlow backend.\n"
          ],
          "name": "stderr"
        },
        {
          "output_type": "stream",
          "text": [
            "Downloading data from https://s3.amazonaws.com/text-datasets/reuters.npz\n",
            "2113536/2110848 [==============================] - 1s 1us/step\n"
          ],
          "name": "stdout"
        }
      ]
    },
    {
      "cell_type": "code",
      "metadata": {
        "id": "r4RKhwUInrus",
        "colab_type": "code",
        "colab": {
          "base_uri": "https://localhost:8080/",
          "height": 52
        },
        "outputId": "281c174c-7e8f-42be-977e-a47a5f8812be"
      },
      "source": [
        "print(len(train_data))\n",
        "len(test_data)"
      ],
      "execution_count": null,
      "outputs": [
        {
          "output_type": "stream",
          "text": [
            "8982\n"
          ],
          "name": "stdout"
        },
        {
          "output_type": "execute_result",
          "data": {
            "text/plain": [
              "2246"
            ]
          },
          "metadata": {
            "tags": []
          },
          "execution_count": 2
        }
      ]
    },
    {
      "cell_type": "code",
      "metadata": {
        "id": "d7Tv2rhQnynm",
        "colab_type": "code",
        "colab": {
          "base_uri": "https://localhost:8080/",
          "height": 562
        },
        "outputId": "36e4fc80-f843-46e1-9d53-c7df99ba0147"
      },
      "source": [
        "train_data[10]"
      ],
      "execution_count": null,
      "outputs": [
        {
          "output_type": "execute_result",
          "data": {
            "text/plain": [
              "[1,\n",
              " 245,\n",
              " 273,\n",
              " 207,\n",
              " 156,\n",
              " 53,\n",
              " 74,\n",
              " 160,\n",
              " 26,\n",
              " 14,\n",
              " 46,\n",
              " 296,\n",
              " 26,\n",
              " 39,\n",
              " 74,\n",
              " 2979,\n",
              " 3554,\n",
              " 14,\n",
              " 46,\n",
              " 4689,\n",
              " 4329,\n",
              " 86,\n",
              " 61,\n",
              " 3499,\n",
              " 4795,\n",
              " 14,\n",
              " 61,\n",
              " 451,\n",
              " 4329,\n",
              " 17,\n",
              " 12]"
            ]
          },
          "metadata": {
            "tags": []
          },
          "execution_count": 3
        }
      ]
    },
    {
      "cell_type": "code",
      "metadata": {
        "id": "nhR-b1D8n137",
        "colab_type": "code",
        "colab": {
          "base_uri": "https://localhost:8080/",
          "height": 52
        },
        "outputId": "c8bd0a14-4963-49f3-bbc7-43475913be3b"
      },
      "source": [
        "#Decoding newswires back to text\n",
        "word_index = reuters.get_word_index()\n",
        "reverse_word_index = dict([(value, key) for (key, value) in word_index.items()])\n",
        "decoded_newswire = ' '.join([reverse_word_index.get(i - 3, '?') for i in\n",
        "train_data[0]])"
      ],
      "execution_count": null,
      "outputs": [
        {
          "output_type": "stream",
          "text": [
            "Downloading data from https://s3.amazonaws.com/text-datasets/reuters_word_index.json\n",
            "557056/550378 [==============================] - 1s 2us/step\n"
          ],
          "name": "stdout"
        }
      ]
    },
    {
      "cell_type": "code",
      "metadata": {
        "id": "TuGIO-DyoA99",
        "colab_type": "code",
        "colab": {
          "base_uri": "https://localhost:8080/",
          "height": 88
        },
        "outputId": "aa85c37b-f193-40a6-90e1-8d4fb4c72c22"
      },
      "source": [
        "decoded_newswire"
      ],
      "execution_count": null,
      "outputs": [
        {
          "output_type": "execute_result",
          "data": {
            "application/vnd.google.colaboratory.intrinsic": {
              "type": "string"
            },
            "text/plain": [
              "'? ? ? said as a result of its december acquisition of space co it expects earnings per share in 1987 of 1 15 to 1 30 dlrs per share up from 70 cts in 1986 the company said pretax net should rise to nine to 10 mln dlrs from six mln dlrs in 1986 and rental operation revenues to 19 to 22 mln dlrs from 12 5 mln dlrs it said cash flow per share this year should be 2 50 to three dlrs reuter 3'"
            ]
          },
          "metadata": {
            "tags": []
          },
          "execution_count": 5
        }
      ]
    },
    {
      "cell_type": "code",
      "metadata": {
        "id": "rdl6V798oD9h",
        "colab_type": "code",
        "colab": {}
      },
      "source": [
        "#Encoding the data\n",
        "\n",
        "import numpy as np\n",
        "def vectorize_sequences(sequences, dimension=10000):\n",
        "  results = np.zeros((len(sequences), dimension))\n",
        "  for i, sequence in enumerate(sequences):\n",
        "    results[i, sequence] = 1\n",
        "  return results\n",
        "x_train = vectorize_sequences(train_data)\n",
        "x_test = vectorize_sequences(test_data)"
      ],
      "execution_count": null,
      "outputs": []
    },
    {
      "cell_type": "code",
      "metadata": {
        "id": "vkwcs89Gofbx",
        "colab_type": "code",
        "colab": {}
      },
      "source": [
        "def to_one_hot(labels, dimension=46):\n",
        "  results = np.zeros((len(labels), dimension))\n",
        "  for i, label in enumerate(labels):\n",
        "    results[i, label] = 1.\n",
        "  return results\n",
        "one_hot_train_labels = to_one_hot(train_labels)\n",
        "one_hot_test_labels = to_one_hot(test_labels) "
      ],
      "execution_count": null,
      "outputs": []
    },
    {
      "cell_type": "code",
      "metadata": {
        "id": "mWQkddM1o2XC",
        "colab_type": "code",
        "colab": {}
      },
      "source": [
        "#Note that there is a built-in way to do this in Keras, which you’ve already seen in action in the MNIST example:\n",
        "from keras.utils.np_utils import to_categorical\n",
        "\n",
        "one_hot_train_labels = to_categorical(train_labels)\n",
        "one_hot_test_labels = to_categorical(test_labels)"
      ],
      "execution_count": null,
      "outputs": []
    },
    {
      "cell_type": "code",
      "metadata": {
        "id": "mqauMyobpBxF",
        "colab_type": "code",
        "colab": {}
      },
      "source": [
        "#Model definition \n",
        "from keras import models\n",
        "from keras import layers\n",
        "\n",
        "model = models.Sequential()\n",
        "model.add(layers.Dense(64, activation='relu', input_shape=(10000,)))\n",
        "model.add(layers.Dense(64, activation='relu'))\n",
        "model.add(layers.Dense(46, activation='softmax'))"
      ],
      "execution_count": null,
      "outputs": []
    },
    {
      "cell_type": "code",
      "metadata": {
        "id": "3A1ru9kYpSI-",
        "colab_type": "code",
        "colab": {}
      },
      "source": [
        "#Compiling the model\n",
        "\n",
        "model.compile(optimizer='rmsprop',\n",
        "loss='categorical_crossentropy',\n",
        "metrics=['accuracy'])"
      ],
      "execution_count": null,
      "outputs": []
    },
    {
      "cell_type": "code",
      "metadata": {
        "id": "2NljO4t2pnEV",
        "colab_type": "code",
        "colab": {}
      },
      "source": [
        "#Setting aside a validation set\n",
        "\n",
        "x_val = x_train[:1000]\n",
        "partial_x_train = x_train[1000:]\n",
        "\n",
        "y_val = one_hot_train_labels[:1000]\n",
        "partial_y_train = one_hot_train_labels[1000:]"
      ],
      "execution_count": null,
      "outputs": []
    },
    {
      "cell_type": "code",
      "metadata": {
        "id": "VBBykp3mp54-",
        "colab_type": "code",
        "colab": {
          "base_uri": "https://localhost:8080/",
          "height": 758
        },
        "outputId": "bc2e797d-d65d-4da4-aa7f-d892f2a3cc00"
      },
      "source": [
        "#Training the model\n",
        "\n",
        "history = model.fit(partial_x_train,\n",
        "partial_y_train,\n",
        "epochs=20,\n",
        "batch_size=512,\n",
        "validation_data=(x_val, y_val))"
      ],
      "execution_count": null,
      "outputs": [
        {
          "output_type": "stream",
          "text": [
            "Train on 7982 samples, validate on 1000 samples\n",
            "Epoch 1/20\n",
            "7982/7982 [==============================] - 1s 153us/step - loss: 2.6182 - accuracy: 0.5226 - val_loss: 1.7671 - val_accuracy: 0.6290\n",
            "Epoch 2/20\n",
            "7982/7982 [==============================] - 1s 112us/step - loss: 1.4486 - accuracy: 0.7021 - val_loss: 1.3486 - val_accuracy: 0.7060\n",
            "Epoch 3/20\n",
            "7982/7982 [==============================] - 1s 120us/step - loss: 1.0768 - accuracy: 0.7648 - val_loss: 1.1493 - val_accuracy: 0.7470\n",
            "Epoch 4/20\n",
            "7982/7982 [==============================] - 1s 116us/step - loss: 0.8365 - accuracy: 0.8202 - val_loss: 1.0373 - val_accuracy: 0.7890\n",
            "Epoch 5/20\n",
            "7982/7982 [==============================] - 1s 115us/step - loss: 0.6645 - accuracy: 0.8618 - val_loss: 1.0010 - val_accuracy: 0.7790\n",
            "Epoch 6/20\n",
            "7982/7982 [==============================] - 1s 117us/step - loss: 0.5289 - accuracy: 0.8920 - val_loss: 0.9279 - val_accuracy: 0.8110\n",
            "Epoch 7/20\n",
            "7982/7982 [==============================] - 1s 116us/step - loss: 0.4269 - accuracy: 0.9136 - val_loss: 0.9100 - val_accuracy: 0.8100\n",
            "Epoch 8/20\n",
            "7982/7982 [==============================] - 1s 115us/step - loss: 0.3516 - accuracy: 0.9271 - val_loss: 0.9081 - val_accuracy: 0.8110\n",
            "Epoch 9/20\n",
            "7982/7982 [==============================] - 1s 118us/step - loss: 0.2900 - accuracy: 0.9359 - val_loss: 0.8777 - val_accuracy: 0.8260\n",
            "Epoch 10/20\n",
            "7982/7982 [==============================] - 1s 116us/step - loss: 0.2416 - accuracy: 0.9460 - val_loss: 0.9127 - val_accuracy: 0.8220\n",
            "Epoch 11/20\n",
            "7982/7982 [==============================] - 1s 118us/step - loss: 0.2129 - accuracy: 0.9484 - val_loss: 0.8914 - val_accuracy: 0.8300\n",
            "Epoch 12/20\n",
            "7982/7982 [==============================] - 1s 116us/step - loss: 0.1822 - accuracy: 0.9526 - val_loss: 0.9641 - val_accuracy: 0.8040\n",
            "Epoch 13/20\n",
            "7982/7982 [==============================] - 1s 118us/step - loss: 0.1689 - accuracy: 0.9530 - val_loss: 0.9498 - val_accuracy: 0.8170\n",
            "Epoch 14/20\n",
            "7982/7982 [==============================] - 1s 122us/step - loss: 0.1510 - accuracy: 0.9526 - val_loss: 0.9718 - val_accuracy: 0.8140\n",
            "Epoch 15/20\n",
            "7982/7982 [==============================] - 1s 120us/step - loss: 0.1420 - accuracy: 0.9533 - val_loss: 0.9792 - val_accuracy: 0.8160\n",
            "Epoch 16/20\n",
            "7982/7982 [==============================] - 1s 119us/step - loss: 0.1312 - accuracy: 0.9560 - val_loss: 1.0231 - val_accuracy: 0.8110\n",
            "Epoch 17/20\n",
            "7982/7982 [==============================] - 1s 119us/step - loss: 0.1272 - accuracy: 0.9548 - val_loss: 1.0035 - val_accuracy: 0.8120\n",
            "Epoch 18/20\n",
            "7982/7982 [==============================] - 1s 119us/step - loss: 0.1192 - accuracy: 0.9570 - val_loss: 1.0458 - val_accuracy: 0.8080\n",
            "Epoch 19/20\n",
            "7982/7982 [==============================] - 1s 120us/step - loss: 0.1154 - accuracy: 0.9583 - val_loss: 1.0664 - val_accuracy: 0.8110\n",
            "Epoch 20/20\n",
            "7982/7982 [==============================] - 1s 119us/step - loss: 0.1123 - accuracy: 0.9564 - val_loss: 1.1154 - val_accuracy: 0.8000\n"
          ],
          "name": "stdout"
        }
      ]
    },
    {
      "cell_type": "code",
      "metadata": {
        "id": "Sb30Z_o6qCng",
        "colab_type": "code",
        "colab": {
          "base_uri": "https://localhost:8080/",
          "height": 295
        },
        "outputId": "796732cd-45e1-4d12-f48c-a7ebe247a74f"
      },
      "source": [
        "#Plotting the training and validation loss\n",
        "\n",
        "import matplotlib.pyplot as plt\n",
        "loss = history.history['loss']\n",
        "val_loss = history.history['val_loss']\n",
        "epochs = range(1, len(loss) + 1)\n",
        "plt.plot(epochs, loss, 'bo', label='Training loss')\n",
        "plt.plot(epochs, val_loss, 'b', label='Validation loss')\n",
        "plt.title('Training and validation loss')\n",
        "plt.xlabel('Epochs')\n",
        "plt.ylabel('Loss')\n",
        "plt.legend()\n",
        "plt.show()"
      ],
      "execution_count": null,
      "outputs": [
        {
          "output_type": "display_data",
          "data": {
            "image/png": "[encoded data removed]",
            "text/plain": [
              "<Figure size 432x288 with 1 Axes>"
            ]
          },
          "metadata": {
            "tags": [],
            "needs_background": "light"
          }
        }
      ]
    },
    {
      "cell_type": "code",
      "metadata": {
        "id": "zwbwCxZIqTwj",
        "colab_type": "code",
        "colab": {
          "base_uri": "https://localhost:8080/",
          "height": 34
        },
        "outputId": "da714f03-918f-4f80-e8f4-26a9d52ed899"
      },
      "source": [
        "history_dict = history.history\n",
        "history_dict.keys()"
      ],
      "execution_count": null,
      "outputs": [
        {
          "output_type": "execute_result",
          "data": {
            "text/plain": [
              "dict_keys(['val_loss', 'val_accuracy', 'loss', 'accuracy'])"
            ]
          },
          "metadata": {
            "tags": []
          },
          "execution_count": 15
        }
      ]
    },
    {
      "cell_type": "code",
      "metadata": {
        "id": "neHostwoqWpR",
        "colab_type": "code",
        "colab": {
          "base_uri": "https://localhost:8080/",
          "height": 295
        },
        "outputId": "e9436b4e-1101-41ad-d5d2-22ff3ee61953"
      },
      "source": [
        "#Plotting the training and validation accuracy\n",
        "plt.clf()\n",
        "\n",
        "acc = history.history['accuracy']\n",
        "val_acc = history.history['val_accuracy']\n",
        "plt.plot(epochs, acc, 'bo', label='Training acc')\n",
        "plt.plot(epochs, val_acc, 'b', label='Validation acc')\n",
        "plt.title('Training and validation accuracy')\n",
        "plt.xlabel('Epochs')\n",
        "plt.ylabel('Loss')\n",
        "plt.legend()\n",
        "plt.show()"
      ],
      "execution_count": null,
      "outputs": [
        {
          "output_type": "display_data",
          "data": {
            "image/png": "[encoded data removed]",
            "text/plain": [
              "<Figure size 432x288 with 1 Axes>"
            ]
          },
          "metadata": {
            "tags": [],
            "needs_background": "light"
          }
        }
      ]
    },
    {
      "cell_type": "code",
      "metadata": {
        "id": "OXSulur8qXxr",
        "colab_type": "code",
        "colab": {
          "base_uri": "https://localhost:8080/",
          "height": 389
        },
        "outputId": "9ff3d5ea-2772-4b8f-b2da-65182c04b14c"
      },
      "source": [
        "#Retraining a model from scratch\n",
        "\n",
        "model = models.Sequential()\n",
        "model.add(layers.Dense(64, activation='relu', input_shape=(10000,)))\n",
        "model.add(layers.Dense(64, activation='relu'))\n",
        "model.add(layers.Dense(46, activation='softmax'))\n",
        "model.compile(optimizer='rmsprop',\n",
        "loss='categorical_crossentropy',\n",
        "metrics=['accuracy'])\n",
        "model.fit(partial_x_train,\n",
        "partial_y_train,\n",
        "epochs=9,\n",
        "batch_size=512,\n",
        "validation_data=(x_val, y_val))\n",
        "results = model.evaluate(x_test, one_hot_test_labels)"
      ],
      "execution_count": null,
      "outputs": [
        {
          "output_type": "stream",
          "text": [
            "Train on 7982 samples, validate on 1000 samples\n",
            "Epoch 1/9\n",
            "7982/7982 [==============================] - 1s 126us/step - loss: 2.6053 - accuracy: 0.5115 - val_loss: 1.7417 - val_accuracy: 0.6340\n",
            "Epoch 2/9\n",
            "7982/7982 [==============================] - 1s 121us/step - loss: 1.4100 - accuracy: 0.7151 - val_loss: 1.3141 - val_accuracy: 0.7270\n",
            "Epoch 3/9\n",
            "7982/7982 [==============================] - 1s 117us/step - loss: 1.0349 - accuracy: 0.7881 - val_loss: 1.1313 - val_accuracy: 0.7610\n",
            "Epoch 4/9\n",
            "7982/7982 [==============================] - 1s 117us/step - loss: 0.8117 - accuracy: 0.8319 - val_loss: 1.0571 - val_accuracy: 0.7780\n",
            "Epoch 5/9\n",
            "7982/7982 [==============================] - 1s 117us/step - loss: 0.6474 - accuracy: 0.8626 - val_loss: 0.9742 - val_accuracy: 0.8010\n",
            "Epoch 6/9\n",
            "7982/7982 [==============================] - 1s 117us/step - loss: 0.5170 - accuracy: 0.8940 - val_loss: 0.9472 - val_accuracy: 0.8050\n",
            "Epoch 7/9\n",
            "7982/7982 [==============================] - 1s 116us/step - loss: 0.4176 - accuracy: 0.9133 - val_loss: 0.9157 - val_accuracy: 0.8070\n",
            "Epoch 8/9\n",
            "7982/7982 [==============================] - 1s 116us/step - loss: 0.3441 - accuracy: 0.9278 - val_loss: 0.9059 - val_accuracy: 0.8130\n",
            "Epoch 9/9\n",
            "7982/7982 [==============================] - 1s 117us/step - loss: 0.2819 - accuracy: 0.9395 - val_loss: 0.9152 - val_accuracy: 0.8180\n",
            "2246/2246 [==============================] - 0s 93us/step\n"
          ],
          "name": "stdout"
        }
      ]
    },
    {
      "cell_type": "code",
      "metadata": {
        "id": "CcnioFDKqvst",
        "colab_type": "code",
        "colab": {
          "base_uri": "https://localhost:8080/",
          "height": 34
        },
        "outputId": "8ab9a8b1-7c67-4fb7-ab2b-202d6cde7ffc"
      },
      "source": [
        "results"
      ],
      "execution_count": null,
      "outputs": [
        {
          "output_type": "execute_result",
          "data": {
            "text/plain": [
              "[0.9913175069956724, 0.7987533211708069]"
            ]
          },
          "metadata": {
            "tags": []
          },
          "execution_count": 20
        }
      ]
    },
    {
      "cell_type": "code",
      "metadata": {
        "id": "GEgN0-3_q1c8",
        "colab_type": "code",
        "colab": {}
      },
      "source": [
        ""
      ],
      "execution_count": null,
      "outputs": []
    }
  ]
}