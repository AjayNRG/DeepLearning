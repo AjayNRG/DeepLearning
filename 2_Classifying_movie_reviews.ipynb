{
  "nbformat": 4,
  "nbformat_minor": 0,
  "metadata": {
    "colab": {
      "name": "Classifying movie reviews.ipynb",
      "provenance": [],
      "authorship_tag": "ABX9TyN0LB8/+QpdVYopXl/Wng3p",
      "include_colab_link": true
    },
    "kernelspec": {
      "name": "python3",
      "display_name": "Python 3"
    }
  },
  "cells": [
    {
      "cell_type": "markdown",
      "metadata": {
        "id": "view-in-github",
        "colab_type": "text"
      },
      "source": [
        "<a href=\"https://colab.research.google.com/github/ajay-nrg/DeepLearning/blob/master/Classifying_movie_reviews.ipynb\" target=\"_parent\"><img src=\"https://colab.research.google.com/assets/colab-badge.svg\" alt=\"Open In Colab\"/></a>"
      ]
    },
    {
      "cell_type": "code",
      "metadata": {
        "id": "LyQRbVvZ5h2f",
        "colab_type": "code",
        "colab": {
          "base_uri": "https://localhost:8080/",
          "height": 34
        },
        "outputId": "868dfe53-92b2-495f-d2fd-b2fc22a286e0"
      },
      "source": [
        "from keras.datasets import imdb"
      ],
      "execution_count": 1,
      "outputs": [
        {
          "output_type": "stream",
          "text": [
            "Using TensorFlow backend.\n"
          ],
          "name": "stderr"
        }
      ]
    },
    {
      "cell_type": "code",
      "metadata": {
        "id": "HzMf254J5oeM",
        "colab_type": "code",
        "colab": {
          "base_uri": "https://localhost:8080/",
          "height": 52
        },
        "outputId": "811ed082-b265-46a3-b031-fccedbfc09c6"
      },
      "source": [
        "(train_data,train_labels),(test_data,test_labels) = imdb.load_data(num_words=10000)\n",
        "#The argument num_words=10000 means you’ll only keep the top 10,000 most frequently occurring words in the training data"
      ],
      "execution_count": 2,
      "outputs": [
        {
          "output_type": "stream",
          "text": [
            "Downloading data from https://s3.amazonaws.com/text-datasets/imdb.npz\n",
            "17465344/17464789 [==============================] - 2s 0us/step\n"
          ],
          "name": "stdout"
        }
      ]
    },
    {
      "cell_type": "code",
      "metadata": {
        "id": "3B7SrP_I55x3",
        "colab_type": "code",
        "colab": {
          "base_uri": "https://localhost:8080/",
          "height": 52
        },
        "outputId": "ae761025-0da1-4065-b6a0-91c7d05786f7"
      },
      "source": [
        "print(test_data.shape)\n",
        "train_data.shape"
      ],
      "execution_count": 15,
      "outputs": [
        {
          "output_type": "stream",
          "text": [
            "(25000,)\n"
          ],
          "name": "stdout"
        },
        {
          "output_type": "execute_result",
          "data": {
            "text/plain": [
              "(25000,)"
            ]
          },
          "metadata": {
            "tags": []
          },
          "execution_count": 15
        }
      ]
    },
    {
      "cell_type": "code",
      "metadata": {
        "id": "EITWKXzM5-49",
        "colab_type": "code",
        "colab": {
          "base_uri": "https://localhost:8080/",
          "height": 34
        },
        "outputId": "e22698c3-6ba5-47fc-fa5a-3e9ca32babf6"
      },
      "source": [
        "train_labels[0]\n",
        "#train_labels and test_labels are lists of 0s and 1s, where 0 stands for negative and 1 stands for positive"
      ],
      "execution_count": 5,
      "outputs": [
        {
          "output_type": "execute_result",
          "data": {
            "text/plain": [
              "1"
            ]
          },
          "metadata": {
            "tags": []
          },
          "execution_count": 5
        }
      ]
    },
    {
      "cell_type": "code",
      "metadata": {
        "id": "Jn5n21FC6IeV",
        "colab_type": "code",
        "colab": {
          "base_uri": "https://localhost:8080/",
          "height": 34
        },
        "outputId": "b3058a2a-fe6d-48cb-f0df-86703553dad7"
      },
      "source": [
        "max([max(sequence) for sequence in train_data])"
      ],
      "execution_count": 7,
      "outputs": [
        {
          "output_type": "execute_result",
          "data": {
            "text/plain": [
              "9999"
            ]
          },
          "metadata": {
            "tags": []
          },
          "execution_count": 7
        }
      ]
    },
    {
      "cell_type": "code",
      "metadata": {
        "id": "ZxaYTTRC6a_6",
        "colab_type": "code",
        "colab": {}
      },
      "source": [
        "#here’s how you can quickly decode one of these reviews back to English words:\n",
        "word_index = imdb.get_word_index()\n",
        "#word_index is a dictionary mapping words to an integer index\n",
        "reverse_word_index = dict([(value,key) for (key,value) in word_index.items()])\n",
        "#Reverses it, mapping integer indices to words\n",
        "decoded_review = ' '.join([reverse_word_index.get(i - 3, '?') for i in train_data[0]])\n",
        "#Decodes the review. Note that the indices are offset by 3 because 0, 1, and 2 are reserved indices for “padding,” \n",
        "#“start of sequence,” and “unknown.”"
      ],
      "execution_count": 10,
      "outputs": []
    },
    {
      "cell_type": "code",
      "metadata": {
        "id": "3tMerQbb6zFW",
        "colab_type": "code",
        "colab": {}
      },
      "source": [
        "#Encoding the integer sequences into a binary matrix\n",
        "import numpy as np\n",
        "def vectorize_sequences(sequences, dimension=10000):\n",
        "  results = np.zeros((len(sequences), dimension))\n",
        "  for i, sequence in enumerate(sequences):\n",
        "    results[i, sequence] = 1.\n",
        "  return results\n",
        "x_train = vectorize_sequences(train_data)\n",
        "x_test = vectorize_sequences(test_data)"
      ],
      "execution_count": 16,
      "outputs": []
    },
    {
      "cell_type": "code",
      "metadata": {
        "id": "UXSH6c0e_39w",
        "colab_type": "code",
        "colab": {
          "base_uri": "https://localhost:8080/",
          "height": 34
        },
        "outputId": "10c5410c-206e-448e-c96f-d2e327c3cdbe"
      },
      "source": [
        "x_train[0]"
      ],
      "execution_count": 17,
      "outputs": [
        {
          "output_type": "execute_result",
          "data": {
            "text/plain": [
              "array([0., 1., 1., ..., 0., 0., 0.])"
            ]
          },
          "metadata": {
            "tags": []
          },
          "execution_count": 17
        }
      ]
    },
    {
      "cell_type": "code",
      "metadata": {
        "id": "jqe2ZciD_7oz",
        "colab_type": "code",
        "colab": {}
      },
      "source": [
        "#You should also vectorize your labels, which is straightforward:\n",
        "y_train = np.asarray(train_labels).astype('float32')\n",
        "y_test = np.asarray(test_labels).astype('float32')"
      ],
      "execution_count": 18,
      "outputs": []
    },
    {
      "cell_type": "code",
      "metadata": {
        "id": "psEL25LTAC4G",
        "colab_type": "code",
        "colab": {
          "base_uri": "https://localhost:8080/",
          "height": 34
        },
        "outputId": "28f56c24-a44d-4b85-e7bb-39efb8254865"
      },
      "source": [
        "y_train[0]"
      ],
      "execution_count": 19,
      "outputs": [
        {
          "output_type": "execute_result",
          "data": {
            "text/plain": [
              "1.0"
            ]
          },
          "metadata": {
            "tags": []
          },
          "execution_count": 19
        }
      ]
    },
    {
      "cell_type": "code",
      "metadata": {
        "id": "FLwmMFudAFiy",
        "colab_type": "code",
        "colab": {}
      },
      "source": [
        "#Model Definition \n",
        "from keras import models\n",
        "from keras import layers\n",
        "model = models.Sequential()\n",
        "model.add(layers.Dense(16, activation='relu', input_shape=(10000,)))\n",
        "model.add(layers.Dense(16, activation='relu'))\n",
        "model.add(layers.Dense(1, activation='sigmoid'))"
      ],
      "execution_count": 20,
      "outputs": []
    },
    {
      "cell_type": "code",
      "metadata": {
        "id": "l-yF2d3OBLvE",
        "colab_type": "code",
        "colab": {}
      },
      "source": [
        "#compiling the model\n",
        "model.compile(optimizer='rmsprop',\n",
        "loss='binary_crossentropy',\n",
        "metrics=['accuracy'])"
      ],
      "execution_count": 21,
      "outputs": []
    },
    {
      "cell_type": "code",
      "metadata": {
        "id": "n6wFtINmBZ7T",
        "colab_type": "code",
        "colab": {}
      },
      "source": [
        "#Configuring the optimizer\n",
        "from keras import optimizers\n",
        "model.compile(optimizer=optimizers.RMSprop(lr=0.001),\n",
        "loss='binary_crossentropy',\n",
        "metrics=['accuracy'])"
      ],
      "execution_count": 22,
      "outputs": []
    },
    {
      "cell_type": "code",
      "metadata": {
        "id": "FhdLg7bkBg-k",
        "colab_type": "code",
        "colab": {}
      },
      "source": [
        "#Using custom losses and metrics\n",
        "from keras import losses\n",
        "from keras import metrics\n",
        "model.compile(optimizer=optimizers.RMSprop(lr=0.001),\n",
        "loss=losses.binary_crossentropy,\n",
        "metrics=[metrics.binary_accuracy])"
      ],
      "execution_count": 23,
      "outputs": []
    },
    {
      "cell_type": "code",
      "metadata": {
        "id": "uxxU6utIBmwR",
        "colab_type": "code",
        "colab": {}
      },
      "source": [
        "#Setting aside a validation set\n",
        "\n",
        "x_val = x_train[:10000]\n",
        "partial_x_train = x_train[10000:]\n",
        "\n",
        "y_val = y_train[:10000]\n",
        "partial_y_train = y_train[10000:]"
      ],
      "execution_count": 24,
      "outputs": []
    },
    {
      "cell_type": "code",
      "metadata": {
        "id": "mqCqlCy8CDnO",
        "colab_type": "code",
        "colab": {
          "base_uri": "https://localhost:8080/",
          "height": 758
        },
        "outputId": "519fd286-61c1-49b1-f124-c6ae7dd7eec9"
      },
      "source": [
        "#Training your model\n",
        "\n",
        "model.compile(optimizer='rmsprop',\n",
        "loss='binary_crossentropy',\n",
        "metrics=['acc'])\n",
        "history = model.fit(partial_x_train,\n",
        "partial_y_train,\n",
        "epochs=20,\n",
        "batch_size=512,\n",
        "validation_data=(x_val, y_val))"
      ],
      "execution_count": 25,
      "outputs": [
        {
          "output_type": "stream",
          "text": [
            "Train on 15000 samples, validate on 10000 samples\n",
            "Epoch 1/20\n",
            "15000/15000 [==============================] - 2s 115us/step - loss: 0.5113 - acc: 0.7968 - val_loss: 0.3949 - val_acc: 0.8654\n",
            "Epoch 2/20\n",
            "15000/15000 [==============================] - 1s 92us/step - loss: 0.3102 - acc: 0.9035 - val_loss: 0.3229 - val_acc: 0.8740\n",
            "Epoch 3/20\n",
            "15000/15000 [==============================] - 1s 90us/step - loss: 0.2274 - acc: 0.9285 - val_loss: 0.2842 - val_acc: 0.8889\n",
            "Epoch 4/20\n",
            "15000/15000 [==============================] - 1s 90us/step - loss: 0.1791 - acc: 0.9449 - val_loss: 0.2972 - val_acc: 0.8825\n",
            "Epoch 5/20\n",
            "15000/15000 [==============================] - 1s 91us/step - loss: 0.1483 - acc: 0.9527 - val_loss: 0.2778 - val_acc: 0.8863\n",
            "Epoch 6/20\n",
            "15000/15000 [==============================] - 1s 92us/step - loss: 0.1195 - acc: 0.9636 - val_loss: 0.2914 - val_acc: 0.8856\n",
            "Epoch 7/20\n",
            "15000/15000 [==============================] - 1s 91us/step - loss: 0.1014 - acc: 0.9708 - val_loss: 0.3051 - val_acc: 0.8818\n",
            "Epoch 8/20\n",
            "15000/15000 [==============================] - 1s 92us/step - loss: 0.0839 - acc: 0.9763 - val_loss: 0.3229 - val_acc: 0.8799\n",
            "Epoch 9/20\n",
            "15000/15000 [==============================] - 1s 91us/step - loss: 0.0686 - acc: 0.9819 - val_loss: 0.4096 - val_acc: 0.8644\n",
            "Epoch 10/20\n",
            "15000/15000 [==============================] - 1s 91us/step - loss: 0.0566 - acc: 0.9856 - val_loss: 0.3624 - val_acc: 0.8793\n",
            "Epoch 11/20\n",
            "15000/15000 [==============================] - 1s 91us/step - loss: 0.0447 - acc: 0.9898 - val_loss: 0.4141 - val_acc: 0.8696\n",
            "Epoch 12/20\n",
            "15000/15000 [==============================] - 1s 92us/step - loss: 0.0396 - acc: 0.9917 - val_loss: 0.4166 - val_acc: 0.8760\n",
            "Epoch 13/20\n",
            "15000/15000 [==============================] - 1s 92us/step - loss: 0.0284 - acc: 0.9948 - val_loss: 0.4543 - val_acc: 0.8710\n",
            "Epoch 14/20\n",
            "15000/15000 [==============================] - 1s 94us/step - loss: 0.0257 - acc: 0.9946 - val_loss: 0.4697 - val_acc: 0.8730\n",
            "Epoch 15/20\n",
            "15000/15000 [==============================] - 1s 92us/step - loss: 0.0162 - acc: 0.9983 - val_loss: 0.5098 - val_acc: 0.8714\n",
            "Epoch 16/20\n",
            "15000/15000 [==============================] - 1s 92us/step - loss: 0.0157 - acc: 0.9975 - val_loss: 0.5433 - val_acc: 0.8698\n",
            "Epoch 17/20\n",
            "15000/15000 [==============================] - 1s 93us/step - loss: 0.0126 - acc: 0.9979 - val_loss: 0.5809 - val_acc: 0.8673\n",
            "Epoch 18/20\n",
            "15000/15000 [==============================] - 1s 92us/step - loss: 0.0065 - acc: 0.9998 - val_loss: 0.5971 - val_acc: 0.8699\n",
            "Epoch 19/20\n",
            "15000/15000 [==============================] - 1s 94us/step - loss: 0.0079 - acc: 0.9994 - val_loss: 0.6318 - val_acc: 0.8681\n",
            "Epoch 20/20\n",
            "15000/15000 [==============================] - 1s 95us/step - loss: 0.0040 - acc: 0.9999 - val_loss: 0.6770 - val_acc: 0.8659\n"
          ],
          "name": "stdout"
        }
      ]
    },
    {
      "cell_type": "code",
      "metadata": {
        "id": "Bc6fQ8akCLPi",
        "colab_type": "code",
        "colab": {
          "base_uri": "https://localhost:8080/",
          "height": 34
        },
        "outputId": "11916b0e-e469-4987-d853-743e7c9aef57"
      },
      "source": [
        "history_dict = history.history\n",
        "history_dict.keys()"
      ],
      "execution_count": 26,
      "outputs": [
        {
          "output_type": "execute_result",
          "data": {
            "text/plain": [
              "dict_keys(['val_loss', 'val_acc', 'loss', 'acc'])"
            ]
          },
          "metadata": {
            "tags": []
          },
          "execution_count": 26
        }
      ]
    },
    {
      "cell_type": "code",
      "metadata": {
        "id": "VmW_2ytrCXsI",
        "colab_type": "code",
        "colab": {
          "base_uri": "https://localhost:8080/",
          "height": 295
        },
        "outputId": "83e0a542-947a-4ae5-fec2-2811be0f8d13"
      },
      "source": [
        "#Plotting the training and validation loss\n",
        "\n",
        "import matplotlib.pyplot as plt\n",
        "history_dict = history.history\n",
        "loss_values = history_dict['loss']\n",
        "val_loss_values = history_dict['val_loss']\n",
        "epochs = range(1, len(history_dict['acc']) + 1)\n",
        "plt.plot(epochs, loss_values, 'bo', label='Training loss')\n",
        "plt.plot(epochs, val_loss_values, 'b', label='Validation loss')\n",
        "plt.title('Training and validation loss')\n",
        "plt.xlabel('Epochs')\n",
        "plt.ylabel('Loss')\n",
        "plt.legend()\n",
        "plt.show()"
      ],
      "execution_count": 28,
      "outputs": [
        {
          "output_type": "display_data",
          "data": {
            "image/png": "[encoded data removed]",
            "text/plain": [
              "<Figure size 432x288 with 1 Axes>"
            ]
          },
          "metadata": {
            "tags": [],
            "needs_background": "light"
          }
        }
      ]
    },
    {
      "cell_type": "code",
      "metadata": {
        "id": "oqstCVHGCiNj",
        "colab_type": "code",
        "colab": {
          "base_uri": "https://localhost:8080/",
          "height": 295
        },
        "outputId": "bb26c0ec-9041-497a-e359-eed9bcb52521"
      },
      "source": [
        "#Plotting the training and validation accuracy\n",
        "\n",
        "plt.clf()\n",
        "acc_values = history_dict['acc']\n",
        "val_acc_values = history_dict['val_acc']\n",
        "plt.plot(epochs, history_dict['acc'], 'bo', label='Training acc')\n",
        "plt.plot(epochs, history_dict['val_acc'], 'b', label='Validation acc')\n",
        "plt.title('Training and validation accuracy')\n",
        "plt.xlabel('Epochs')\n",
        "plt.ylabel('Loss')\n",
        "plt.legend()\n",
        "plt.show()"
      ],
      "execution_count": 32,
      "outputs": [
        {
          "output_type": "display_data",
          "data": {
            "image/png": "[encoded data removed]",
            "text/plain": [
              "<Figure size 432x288 with 1 Axes>"
            ]
          },
          "metadata": {
            "tags": [],
            "needs_background": "light"
          }
        }
      ]
    },
    {
      "cell_type": "code",
      "metadata": {
        "id": "WIpiXduYC5r9",
        "colab_type": "code",
        "colab": {
          "base_uri": "https://localhost:8080/",
          "height": 175
        },
        "outputId": "ed81f6de-6927-4949-b3f7-a2f20a3c4ba5"
      },
      "source": [
        "#Retraining a model from scratch\n",
        "\n",
        "model = models.Sequential()\n",
        "model.add(layers.Dense(16, activation='relu', input_shape=(10000,)))\n",
        "model.add(layers.Dense(16, activation='relu'))\n",
        "model.add(layers.Dense(1, activation='sigmoid'))\n",
        "model.compile(optimizer='rmsprop',\n",
        "loss='binary_crossentropy',\n",
        "metrics=['accuracy'])\n",
        "model.fit(x_train, y_train, epochs=4, batch_size=512)\n",
        "results = model.evaluate(x_test, y_test)"
      ],
      "execution_count": 33,
      "outputs": [
        {
          "output_type": "stream",
          "text": [
            "Epoch 1/4\n",
            "25000/25000 [==============================] - 2s 76us/step - loss: 0.4510 - accuracy: 0.8163\n",
            "Epoch 2/4\n",
            "25000/25000 [==============================] - 2s 69us/step - loss: 0.2594 - accuracy: 0.9102\n",
            "Epoch 3/4\n",
            "25000/25000 [==============================] - 2s 68us/step - loss: 0.2005 - accuracy: 0.9306\n",
            "Epoch 4/4\n",
            "25000/25000 [==============================] - 2s 68us/step - loss: 0.1664 - accuracy: 0.9405\n",
            "25000/25000 [==============================] - 2s 64us/step\n"
          ],
          "name": "stdout"
        }
      ]
    },
    {
      "cell_type": "code",
      "metadata": {
        "id": "H09KAEiADOU-",
        "colab_type": "code",
        "colab": {
          "base_uri": "https://localhost:8080/",
          "height": 140
        },
        "outputId": "8c6cfe7a-8613-4bde-bd3d-29756300881c"
      },
      "source": [
        "model.predict(x_test)"
      ],
      "execution_count": 34,
      "outputs": [
        {
          "output_type": "execute_result",
          "data": {
            "text/plain": [
              "array([[0.15576702],\n",
              "       [0.9991169 ],\n",
              "       [0.713868  ],\n",
              "       ...,\n",
              "       [0.10271269],\n",
              "       [0.04343748],\n",
              "       [0.5469853 ]], dtype=float32)"
            ]
          },
          "metadata": {
            "tags": []
          },
          "execution_count": 34
        }
      ]
    },
    {
      "cell_type": "code",
      "metadata": {
        "id": "n-AieT0ZDYTA",
        "colab_type": "code",
        "colab": {}
      },
      "source": [
        ""
      ],
      "execution_count": null,
      "outputs": []
    }
  ]
}
