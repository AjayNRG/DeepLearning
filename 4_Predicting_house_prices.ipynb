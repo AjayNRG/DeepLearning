{
  "nbformat": 4,
  "nbformat_minor": 0,
  "metadata": {
    "colab": {
      "name": "4_Predicting house prices.ipynb",
      "provenance": [],
      "authorship_tag": "ABX9TyPb8kadl+PQ/OD9EZ8BjNY3",
      "include_colab_link": true
    },
    "kernelspec": {
      "name": "python3",
      "display_name": "Python 3"
    }
  },
  "cells": [
    {
      "cell_type": "markdown",
      "metadata": {
        "id": "view-in-github",
        "colab_type": "text"
      },
      "source": [
        "<a href=\"https://colab.research.google.com/github/ajay-nrg/DeepLearning/blob/master/4_Predicting_house_prices.ipynb\" target=\"_parent\"><img src=\"https://colab.research.google.com/assets/colab-badge.svg\" alt=\"Open In Colab\"/></a>"
      ]
    },
    {
      "cell_type": "code",
      "metadata": {
        "id": "cjQ94ZNtrids",
        "colab_type": "code",
        "colab": {}
      },
      "source": [
        "from keras.datasets import boston_housing\n",
        "\n",
        "(train_data,train_targets),(test_data,test_targets) = boston_housing.load_data()"
      ],
      "execution_count": 18,
      "outputs": []
    },
    {
      "cell_type": "code",
      "metadata": {
        "id": "TUFYfxGFsUKZ",
        "colab_type": "code",
        "colab": {
          "base_uri": "https://localhost:8080/",
          "height": 52
        },
        "outputId": "b0f90b51-35d7-4dc2-8fd2-d4c4e27772e9"
      },
      "source": [
        "print(train_data.shape)\n",
        "test_data.shape"
      ],
      "execution_count": 19,
      "outputs": [
        {
          "output_type": "stream",
          "text": [
            "(404, 13)\n"
          ],
          "name": "stdout"
        },
        {
          "output_type": "execute_result",
          "data": {
            "text/plain": [
              "(102, 13)"
            ]
          },
          "metadata": {
            "tags": []
          },
          "execution_count": 19
        }
      ]
    },
    {
      "cell_type": "code",
      "metadata": {
        "id": "aFR6OjWwsuU7",
        "colab_type": "code",
        "colab": {
          "base_uri": "https://localhost:8080/",
          "height": 246
        },
        "outputId": "d168fbda-af7e-45fa-8673-15fe18329d1f"
      },
      "source": [
        "mean = train_data.mean(axis=0)\n",
        "train_data -= mean\n",
        "std = train_data.std(axis=0)\n",
        "train_data /= std\n",
        "train_data"
      ],
      "execution_count": 20,
      "outputs": [
        {
          "output_type": "execute_result",
          "data": {
            "text/plain": [
              "array([[-0.27224633, -0.48361547, -0.43576161, ...,  1.14850044,\n",
              "         0.44807713,  0.8252202 ],\n",
              "       [-0.40342651,  2.99178419, -1.33391162, ..., -1.71818909,\n",
              "         0.43190599, -1.32920239],\n",
              "       [ 0.1249402 , -0.48361547,  1.0283258 , ...,  0.78447637,\n",
              "         0.22061726, -1.30850006],\n",
              "       ...,\n",
              "       [-0.40202987,  0.99079651, -0.7415148 , ..., -0.71712291,\n",
              "         0.07943894, -0.67776904],\n",
              "       [-0.17292018, -0.48361547,  1.24588095, ..., -1.71818909,\n",
              "        -0.98764362,  0.42083466],\n",
              "       [-0.40422614,  2.04394792, -1.20161456, ..., -1.30866202,\n",
              "         0.23317118, -1.15392266]])"
            ]
          },
          "metadata": {
            "tags": []
          },
          "execution_count": 20
        }
      ]
    },
    {
      "cell_type": "code",
      "metadata": {
        "id": "7H4IJniCtO7v",
        "colab_type": "code",
        "colab": {
          "base_uri": "https://localhost:8080/",
          "height": 246
        },
        "outputId": "c5ed45af-4a87-4752-e7c7-9ab5a5b29236"
      },
      "source": [
        "test_data -= mean\n",
        "test_data /= std\n",
        "test_data"
      ],
      "execution_count": 21,
      "outputs": [
        {
          "output_type": "execute_result",
          "data": {
            "text/plain": [
              "array([[ 1.55369355, -0.48361547,  1.0283258 , ...,  0.78447637,\n",
              "        -3.48459553,  2.25092074],\n",
              "       [-0.39242675, -0.48361547, -0.16087773, ..., -0.30759583,\n",
              "         0.42733126,  0.47880119],\n",
              "       [-0.39982927, -0.48361547, -0.86940196, ...,  0.78447637,\n",
              "         0.44807713, -0.41415936],\n",
              "       ...,\n",
              "       [-0.20709507, -0.48361547,  1.24588095, ..., -1.71818909,\n",
              "         0.37051949, -1.49344089],\n",
              "       [-0.36698601, -0.48361547, -0.72093526, ..., -0.48960787,\n",
              "         0.39275481, -0.41829982],\n",
              "       [-0.0889679 , -0.48361547,  1.24588095, ..., -1.71818909,\n",
              "        -1.21946544, -0.40449827]])"
            ]
          },
          "metadata": {
            "tags": []
          },
          "execution_count": 21
        }
      ]
    },
    {
      "cell_type": "code",
      "metadata": {
        "id": "HwBV2uLQt0Qk",
        "colab_type": "code",
        "colab": {}
      },
      "source": [
        "#Model definition\n",
        "\n",
        "from keras import models \n",
        "from keras import layers\n",
        "\n",
        "def build_model():\n",
        "  model = models.Sequential()\n",
        "  model.add(layers.Dense(64, activation='relu', input_shape=(train_data.shape[1],)))\n",
        "  model.add(layers.Dense(64,activation='relu'))\n",
        "  model.add(layers.Dense(1))\n",
        "  model.compile(optimizer='rmsprop', loss='mse', metrics=['mae'])\n",
        "  return model\n",
        "\n",
        "#The network ends with a single unit and no activation (it will be a linear layer). This is\n",
        "#a typical setup for scalar regression (a regression where you’re trying to predict a single\n",
        "#continuous value)."
      ],
      "execution_count": 25,
      "outputs": []
    },
    {
      "cell_type": "code",
      "metadata": {
        "id": "2_zsGepkvCpI",
        "colab_type": "code",
        "colab": {
          "base_uri": "https://localhost:8080/",
          "height": 87
        },
        "outputId": "44a2be53-b551-4bb6-bc1e-12dacde80564"
      },
      "source": [
        "#K-fold validation\n",
        "\n",
        "import numpy as np\n",
        "k = 4\n",
        "num_val_samples = len(train_data) // k\n",
        "num_epochs = 100\n",
        "all_scores = []\n",
        "\n",
        "#Prepares the validation data: data from partition #k\n",
        "for i in range(k):\n",
        "  print('processing fold #',i)\n",
        "  val_data = train_data[i * num_val_samples: (i+1) * num_val_samples]\n",
        "  val_targets = train_targets[i * num_val_samples: (i + 1) * num_val_samples]\n",
        "  #Prepares the training data: data from all other partitions\n",
        "  partial_train_data = np.concatenate([train_data[:i* num_val_samples],train_data[(i+1)*num_val_samples:]],axis=0)\n",
        "  partial_train_targets = np.concatenate([train_targets[:i* num_val_samples],train_targets[(i+1)*num_val_samples:]], axis=0)\n",
        "\n",
        "  model = build_model() #Builds the Keras model (already compiled)\n",
        "\n",
        "  model.fit(partial_train_data,partial_train_targets,epochs=num_epochs,batch_size=1,verbose=0)\n",
        "  #Trains the model (in silent mode,verbose = 0)\n",
        "  \n",
        "  val_mse, val_mae = model.evaluate(val_data, val_targets, verbose=0)\n",
        "  all_scores.append(val_mae)"
      ],
      "execution_count": 28,
      "outputs": [
        {
          "output_type": "stream",
          "text": [
            "processing fold # 0\n",
            "processing fold # 1\n",
            "processing fold # 2\n",
            "processing fold # 3\n"
          ],
          "name": "stdout"
        }
      ]
    },
    {
      "cell_type": "code",
      "metadata": {
        "id": "RN4zbOtrz8IP",
        "colab_type": "code",
        "colab": {
          "base_uri": "https://localhost:8080/",
          "height": 52
        },
        "outputId": "4720fd67-1ccc-49a6-bde4-6a54ecbfb858"
      },
      "source": [
        "print(all_scores)\n",
        "np.mean(all_scores)"
      ],
      "execution_count": 34,
      "outputs": [
        {
          "output_type": "stream",
          "text": [
            "[2.101224422454834, 2.973715305328369, 2.4139130115509033, 2.522993326187134]\n"
          ],
          "name": "stdout"
        },
        {
          "output_type": "execute_result",
          "data": {
            "text/plain": [
              "2.50296151638031"
            ]
          },
          "metadata": {
            "tags": []
          },
          "execution_count": 34
        }
      ]
    },
    {
      "cell_type": "code",
      "metadata": {
        "id": "xEO4cxYfy1pk",
        "colab_type": "code",
        "colab": {
          "base_uri": "https://localhost:8080/",
          "height": 87
        },
        "outputId": "293f1a97-439f-48a5-850a-9b8938d6aa07"
      },
      "source": [
        "#Saving the validation logs at each fold\n",
        "num_epochs = 100\n",
        "all_mae_histories = []\n",
        "\n",
        "for i in range(k):\n",
        "  print('processing fold #',i)\n",
        "  val_data = train_data[i * num_val_samples: (i+1) * num_val_samples]\n",
        "  val_targets = train_targets[i * num_val_samples: (i + 1) * num_val_samples]\n",
        "  #Prepares the training data: data from all other partitions\n",
        "  partial_train_data = np.concatenate([train_data[:i* num_val_samples],train_data[(i+1)*num_val_samples:]],axis=0)\n",
        "  partial_train_targets = np.concatenate([train_targets[:i* num_val_samples],train_targets[(i+1)*num_val_samples:]], axis=0)\n",
        "\n",
        "  model = build_model() #Builds the Keras model (already compiled)\n",
        "\n",
        "  history = model.fit(partial_train_data,partial_train_targets,\n",
        "                      validation_data=(val_data, val_targets),\n",
        "                      epochs=num_epochs,batch_size=1,verbose=0)\n",
        "  #Trains the model (in silent mode,verbose = 0)\n",
        "  mae_history = history.history['val_mae']\n",
        "  all_mae_histories.append(mae_history)"
      ],
      "execution_count": 46,
      "outputs": [
        {
          "output_type": "stream",
          "text": [
            "processing fold # 0\n",
            "processing fold # 1\n",
            "processing fold # 2\n",
            "processing fold # 3\n"
          ],
          "name": "stdout"
        }
      ]
    },
    {
      "cell_type": "code",
      "metadata": {
        "id": "qv5BpT3D01l2",
        "colab_type": "code",
        "colab": {
          "base_uri": "https://localhost:8080/",
          "height": 105
        },
        "outputId": "28f95ed1-fe9f-4f65-dd35-39b89912ed32"
      },
      "source": [
        "#Building the history of successive mean K-fold validation scores\n",
        "average_mae_history = [np.mean([x[i] for x in all_mae_histories]) for i in range(num_epochs)]\n",
        "average_mae_history[:5]"
      ],
      "execution_count": 53,
      "outputs": [
        {
          "output_type": "execute_result",
          "data": {
            "text/plain": [
              "[4.53826105594635,\n",
              " 3.3585904836654663,\n",
              " 2.971972644329071,\n",
              " 2.901795506477356,\n",
              " 2.892486572265625]"
            ]
          },
          "metadata": {
            "tags": []
          },
          "execution_count": 53
        }
      ]
    },
    {
      "cell_type": "code",
      "metadata": {
        "id": "EhgB3mxP1_aE",
        "colab_type": "code",
        "colab": {
          "base_uri": "https://localhost:8080/",
          "height": 279
        },
        "outputId": "2da1cbef-d0be-443e-84f4-c6706987e93f"
      },
      "source": [
        "#Plotting validation scores\n",
        "import matplotlib.pyplot as plt\n",
        "\n",
        "plt.plot(range(1,len(average_mae_history)+1), average_mae_history)\n",
        "plt.xlabel('Epochs')\n",
        "plt.ylabel('Validation MAE')\n",
        "plt.show()"
      ],
      "execution_count": 54,
      "outputs": [
        {
          "output_type": "display_data",
          "data": {
            "image/png": "[encoded data removed]",
            "text/plain": [
              "<Figure size 432x288 with 1 Axes>"
            ]
          },
          "metadata": {
            "tags": [],
            "needs_background": "light"
          }
        }
      ]
    },
    {
      "cell_type": "code",
      "metadata": {
        "id": "XD0TrB-y3f-i",
        "colab_type": "code",
        "colab": {
          "base_uri": "https://localhost:8080/",
          "height": 34
        },
        "outputId": "ce1783e2-69d6-4d81-dbf2-8486cad6b60a"
      },
      "source": [
        "#training the model\n",
        "model = build_model()\n",
        "model.fit(train_data, train_targets,\n",
        "epochs=80, batch_size=16, verbose=0)\n",
        "test_mse_score, test_mae_score = model.evaluate(test_data, test_targets)"
      ],
      "execution_count": 56,
      "outputs": [
        {
          "output_type": "stream",
          "text": [
            "102/102 [==============================] - 0s 172us/step\n"
          ],
          "name": "stdout"
        }
      ]
    },
    {
      "cell_type": "code",
      "metadata": {
        "id": "nzoJ3teT4EHV",
        "colab_type": "code",
        "colab": {
          "base_uri": "https://localhost:8080/",
          "height": 34
        },
        "outputId": "c9d0a2ff-850c-4c6d-9842-d9a29c2b2579"
      },
      "source": [
        "test_mae_score"
      ],
      "execution_count": 57,
      "outputs": [
        {
          "output_type": "execute_result",
          "data": {
            "text/plain": [
              "2.666041374206543"
            ]
          },
          "metadata": {
            "tags": []
          },
          "execution_count": 57
        }
      ]
    },
    {
      "cell_type": "code",
      "metadata": {
        "id": "DWfvmsoB4RGe",
        "colab_type": "code",
        "colab": {}
      },
      "source": [
        ""
      ],
      "execution_count": null,
      "outputs": []
    }
  ]
}